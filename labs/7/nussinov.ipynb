{
 "cells": [
  {
   "cell_type": "code",
   "execution_count": 3,
   "metadata": {},
   "outputs": [],
   "source": [
    "import numpy as np\n",
    "import pandas as pd\n",
    "import itertools"
   ]
  },
  {
   "cell_type": "code",
   "execution_count": 4,
   "metadata": {},
   "outputs": [],
   "source": [
    "characters = np.array(['A', 'C', 'G', 'T'])\n",
    "characters_dict = dict((character_index, character) for character_index, character in enumerate(characters))\n",
    "\n",
    "delta_table = np.array([\n",
    "    (0,0,0,1),\n",
    "    (0,0,1,0),\n",
    "    (0,1,0,0),\n",
    "    (1,0,0,0)\n",
    "])\n",
    "\n",
    "delta_dict = dict(((characters_dict[j],characters_dict[i]), int(delta_table[i][j])) for i in range(len(delta_table)) for j in range(len(delta_table[0])))\n",
    "\n",
    "def delta(a, b):\n",
    "    return delta_dict[a,b]"
   ]
  },
  {
   "cell_type": "code",
   "execution_count": 20,
   "metadata": {},
   "outputs": [],
   "source": [
    "def nussinov(genome):\n",
    "    n_table = np.empty((len(genome), len(genome)))\n",
    "    # n_table.fill(np.nan)\n",
    "    np.fill_diagonal(n_table, 0)\n",
    "\n",
    "    diag_x, diag_y = np.diag_indices_from(n_table)\n",
    "    diag_x = diag_x[diag_x > 0]\n",
    "    diag_y = diag_y -1\n",
    "    diag_y = diag_y[diag_y >= 0]\n",
    "\n",
    "    n_table[(diag_x, diag_y)] = 0\n",
    "\n",
    "    cells = itertools.product(range(n_table.shape[0]), range(n_table.shape[1]))\n",
    "\n",
    "    for column, row in cells:\n",
    "        if column > row:\n",
    "            first = n_table[row+1, column-1] + delta(genome[row], genome[column])\n",
    "            second = max([n_table[row, k] + n_table[k+1, column] for k in range(row, column)])\n",
    "\n",
    "            n_table[row, column] = max(first, second)\n",
    "\n",
    "    # pd.set_option('precision', 0)\n",
    "    table_df = pd.DataFrame(n_table)\n",
    "    \n",
    "    # table_df = table_df.astype('int32')\n",
    "\n",
    "    return table_df"
   ]
  },
  {
   "cell_type": "code",
   "execution_count": 21,
   "metadata": {},
   "outputs": [
    {
     "name": "stdout",
     "output_type": "stream",
     "text": [
      "    0   1   2   3   4   5  6  7\n",
      "0   0   1   1   1   2   2  2  3\n",
      "1   0   0   0   0   1   1  1  2\n",
      "2 NaN   0   0   0   1   1  1  2\n",
      "3 NaN NaN   0   0   1   1  1  2\n",
      "4 NaN NaN NaN   0   0   0  1  1\n",
      "5 NaN NaN NaN NaN   0   0  0  1\n",
      "6 NaN NaN NaN NaN NaN   0  0  1\n",
      "7 NaN NaN NaN NaN NaN NaN  0  0\n"
     ]
    }
   ],
   "source": [
    "genome = 'GCACGACG'\n",
    "\n",
    "nussinov_table = nussinov(genome)\n",
    "print(nussinov_table)"
   ]
  },
  {
   "cell_type": "code",
   "execution_count": 22,
   "metadata": {},
   "outputs": [],
   "source": [
    "complementary_replacements = {\"A\": \"T\", \"T\": \"A\", \"C\": \"G\", \"G\": \"C\"}\n",
    "\n",
    "def is_complementary(genes):\n",
    "    return complementary_replacements[genes[0]] == genes[1]"
   ]
  },
  {
   "cell_type": "code",
   "execution_count": 40,
   "metadata": {},
   "outputs": [],
   "source": [
    "def nussinov_traceback(i, j):\n",
    "    if j <= i:\n",
    "        return\n",
    "\n",
    "    if nussinov_table.iloc[i][j] == nussinov_table.iloc[i][j-1]:\n",
    "        nussinov_traceback(i, j-1)\n",
    "    else:\n",
    "        for k in range(i, j):\n",
    "            if k >= 0 and \\\n",
    "                is_complementary((genome[k], genome[j])) and \\\n",
    "                nussinov_table.iloc[i][j] == (0 if k == 0 else nussinov_table.iloc[i][k-1]) + nussinov_table.iloc[k+1][j-1] + 1:\n",
    "                print(f'({k+1}, {j+1})')\n",
    "                nussinov_traceback(i, k-1)\n",
    "                nussinov_traceback(k+1, j-1)\n",
    "                return"
   ]
  },
  {
   "cell_type": "code",
   "execution_count": 42,
   "metadata": {},
   "outputs": [
    {
     "name": "stdout",
     "output_type": "stream",
     "text": [
      "(4, 8)\n",
      "(1, 2)\n",
      "(5, 7)\n"
     ]
    }
   ],
   "source": [
    "nussinov_traceback(0, 7)"
   ]
  },
  {
   "cell_type": "markdown",
   "metadata": {},
   "source": [
    "![alt text](result.jpg \"Vizualizace výsledné RNA sekvence\")"
   ]
  }
 ],
 "metadata": {
  "interpreter": {
   "hash": "28cca87d27d59aef4ba9789d8c368d49a8cf063724b8a96fb58b99cf6e32a696"
  },
  "kernelspec": {
   "display_name": "Python 3 (ipykernel)",
   "language": "python",
   "name": "python3"
  },
  "language_info": {
   "codemirror_mode": {
    "name": "ipython",
    "version": 3
   },
   "file_extension": ".py",
   "mimetype": "text/x-python",
   "name": "python",
   "nbconvert_exporter": "python",
   "pygments_lexer": "ipython3",
   "version": "3.8.6rc1"
  }
 },
 "nbformat": 4,
 "nbformat_minor": 4
}
